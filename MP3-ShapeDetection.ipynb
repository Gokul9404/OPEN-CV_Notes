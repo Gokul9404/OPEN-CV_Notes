{
 "cells": [
  {
   "cell_type": "code",
   "execution_count": null,
   "metadata": {},
   "outputs": [],
   "source": [
    "import cv2 as cv\n",
    "import numpy as np\n",
    "from matplotlib import pyplot as plt\n",
    "\n",
    "\n",
    "def shapes():\n",
    "    img = cv.imread('./img/shapess.jpg')\n",
    "    img_gray = cv.cvtColor(img, cv.COLOR_BGR2GRAY)\n",
    "\n",
    "    _, thresh = cv.threshold(img_gray, 240, 255, cv.THRESH_BINARY)\n",
    "    contours, _ = cv.findContours(thresh, cv.RETR_TREE, cv.CHAIN_APPROX_NONE)\n",
    "\n",
    "    white = np.ones((img.shape[0], img.shape[1], 3))\n",
    "\n",
    "    for c in contours:\n",
    "        approx = cv.approxPolyDP(c, 0.01*cv.arcLength(c, True), True)\n",
    "        cv.drawContours(img, [approx], 0, (0, 255, 0), 5)\n",
    "        x = approx.ravel()[0]\n",
    "        y = approx.ravel()[1] - 5\n",
    "        if len(approx) == 3:\n",
    "            cv.putText(img, \"Triangle\", (x, y), cv.FONT_HERSHEY_SIMPLEX, 1, (0, 0, 0), 1)\n",
    "        elif len(approx) == 4:\n",
    "            x1, y1, w, h = cv.boundingRect(approx)\n",
    "            aspect_ratio = float(w) / float(h)\n",
    "            print(aspect_ratio)\n",
    "            if aspect_ratio >= 0.95 and aspect_ratio <= 1.05:\n",
    "                cv.putText(img, \"Square\", (x, y), cv.FONT_HERSHEY_SIMPLEX, 1, (0, 0, 0), 1)\n",
    "            else:\n",
    "                cv.putText(img, \"Rectangle\", (x, y), cv.FONT_HERSHEY_SIMPLEX, 1, (0, 0, 0), 1)\n",
    "        elif len(approx) == 5:\n",
    "            cv.putText(img, \"Pentagon\", (x, y), cv.FONT_HERSHEY_SIMPLEX, 1, (0, 0, 0), 1)\n",
    "        elif len(approx) == 10:\n",
    "            cv.putText(img, \"Star\", (x, y), cv.FONT_HERSHEY_SIMPLEX, 1, (0, 0, 0), 1)\n",
    "        else:\n",
    "            cv.putText(img, \"Circle\", (x, y), cv.FONT_HERSHEY_SIMPLEX, 1, (0, 0, 0), 1)\n",
    "\n",
    "    cv.imshow(\"Shapes\", img)\n",
    "    cv.waitKey()\n",
    "    cv.destroyAllWindows()\n",
    "\n",
    "\n",
    "if __name__ == \"__main__\":\n",
    "    shapes()\n"
   ]
  }
 ],
 "metadata": {
  "language_info": {
   "name": "python"
  },
  "orig_nbformat": 4
 },
 "nbformat": 4,
 "nbformat_minor": 2
}
