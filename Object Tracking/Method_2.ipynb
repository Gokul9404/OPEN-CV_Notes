{
 "cells": [
  {
   "cell_type": "markdown",
   "metadata": {},
   "source": [
    "### Color Segmentation"
   ]
  },
  {
   "cell_type": "code",
   "execution_count": null,
   "metadata": {},
   "outputs": [],
   "source": [
    "import cv2 as cv\n",
    "import numpy as np"
   ]
  },
  {
   "cell_type": "code",
   "execution_count": null,
   "metadata": {},
   "outputs": [],
   "source": [
    "def change(x):\n",
    "    pass\n",
    "\n",
    "\n",
    "def objectDetection():\n",
    "    cv.namedWindow(\"Tracking\")\n",
    "    cv.createTrackbar(\"LH\", \"Tracking\", 0, 255, change)\n",
    "    cv.createTrackbar(\"LS\", \"Tracking\", 0, 255, change)\n",
    "    cv.createTrackbar(\"LV\", \"Tracking\", 0, 255, change)\n",
    "    cv.createTrackbar(\"UH\", \"Tracking\", 255, 255, change)\n",
    "    cv.createTrackbar(\"US\", \"Tracking\", 255, 255, change)\n",
    "    cv.createTrackbar(\"UV\", \"Tracking\", 255, 255, change)\n",
    "    img = cv.imread('./img/balls.jpg')\n",
    "    #  for Video capture and object detection\n",
    "    # cap = cv.VideoCapture(0)\n",
    "    while True:\n",
    "        # _, img = cap.read()\n",
    "        hsv = cv.cvtColor(img, cv.COLOR_BGR2HSV)\n",
    "\n",
    "        l_h = cv.getTrackbarPos(\"LH\", \"Tracking\")\n",
    "        l_s = cv.getTrackbarPos(\"LS\", \"Tracking\")\n",
    "        l_v = cv.getTrackbarPos(\"LV\", \"Tracking\")\n",
    "\n",
    "        u_h = cv.getTrackbarPos(\"UH\", \"Tracking\")\n",
    "        u_s = cv.getTrackbarPos(\"US\", \"Tracking\")\n",
    "        u_v = cv.getTrackbarPos(\"UV\", \"Tracking\")\n",
    "\n",
    "        l_c = np.array([l_h, l_s, l_v])\n",
    "        u_c = np.array([u_h, u_s, u_v])\n",
    "\n",
    "        # print(l_c)\n",
    "        # print(u_c)\n",
    "\n",
    "        # u_b = np.array([130, 255, 255])\n",
    "        # l_b = np.array([110, 50, 50])\n",
    "\n",
    "        mask = cv.inRange(hsv, l_c, u_c)\n",
    "        res = cv.bitwise_and(img, img, mask=mask)\n",
    "\n",
    "        cv.imshow(\"Object Detection\", res)\n",
    "        cv.imshow(\"mask\", mask)\n",
    "        cv.imshow(\"Original Image\", img)\n",
    "\n",
    "        k = cv.waitKey(1) & 0xFF\n",
    "        if k == 27:\n",
    "            print(l_c)\n",
    "            print(u_c)\n",
    "            break\n",
    "    # cap.release()\n",
    "    cv.destroyAllWindows()\n"
   ]
  },
  {
   "cell_type": "code",
   "execution_count": null,
   "metadata": {},
   "outputs": [],
   "source": [
    "objectDetection()"
   ]
  }
 ],
 "metadata": {
  "kernelspec": {
   "display_name": "Python 3",
   "language": "python",
   "name": "python3"
  },
  "language_info": {
   "codemirror_mode": {
    "name": "ipython",
    "version": 3
   },
   "file_extension": ".py",
   "mimetype": "text/x-python",
   "name": "python",
   "nbconvert_exporter": "python",
   "pygments_lexer": "ipython3",
   "version": "3.7.9"
  },
  "orig_nbformat": 4
 },
 "nbformat": 4,
 "nbformat_minor": 2
}
