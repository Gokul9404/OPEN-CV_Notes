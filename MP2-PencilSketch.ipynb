{
 "cells": [
  {
   "attachments": {},
   "cell_type": "markdown",
   "metadata": {},
   "source": [
    "## ___PENCIL SKETCH___\n",
    "It is a image containing outlines to define an object (i.e. creating an illusion of an Object by plotting it's Border lines).\n",
    "\n",
    "In simple terms, Pencil Sketch is an image conatining Edges of the object"
   ]
  },
  {
   "attachments": {},
   "cell_type": "markdown",
   "metadata": {},
   "source": [
    "### Importing libraries"
   ]
  },
  {
   "cell_type": "code",
   "execution_count": null,
   "metadata": {},
   "outputs": [],
   "source": [
    "import cv2\n",
    "import numpy as np\n",
    "import matplotlib.pyplot as plt"
   ]
  },
  {
   "attachments": {},
   "cell_type": "markdown",
   "metadata": {},
   "source": [
    "#### _Defining method to convert image to Pencil art_"
   ]
  },
  {
   "cell_type": "code",
   "execution_count": null,
   "metadata": {},
   "outputs": [],
   "source": [
    "def sketch(image):\n",
    "    # Convert image to gray scale\n",
    "    img_gray = cv2.cvtColor(image, cv2.COLOR_BGR2GRAY)\n",
    "\n",
    "    # Clean up image using Gaussian Blur\n",
    "    img_gray_blur = cv2.GaussianBlur(img_gray, (5, 5), 0)\n",
    "\n",
    "    # Extract Edges\n",
    "    canny_edges = cv2.Canny(img_gray_blur, 30, 70)\n",
    "\n",
    "    # Do an invert binarize the image\n",
    "    _, mask = cv2.threshold(canny_edges, 80, 220, cv2.THRESH_BINARY_INV)\n",
    "\n",
    "    mask = cv2.GaussianBlur(mask, (3,3), 1)\n",
    "\n",
    "    mask = cv2.bitwise_not(mask) \n",
    "\n",
    "    return mask\n"
   ]
  },
  {
   "attachments": {},
   "cell_type": "markdown",
   "metadata": {},
   "source": [
    "#### _Defining method for Live Sketch Conversion_"
   ]
  },
  {
   "cell_type": "code",
   "execution_count": null,
   "metadata": {},
   "outputs": [],
   "source": [
    "def liveSketch():\n",
    "    cap = cv2.VideoCapture(0)\n",
    "\n",
    "    while True:\n",
    "        _, frame = cap.read()\n",
    "        cv2.imshow(\"Image\", frame)\n",
    "        cv2.imshow(\"Live Sketch\", sketch(frame))\n",
    "        if cv2.waitKey(1) == ord(\"q\"):\n",
    "            break\n",
    "\n",
    "    cap.release()\n",
    "    cv2.destroyAllWindows()\n"
   ]
  },
  {
   "cell_type": "code",
   "execution_count": null,
   "metadata": {},
   "outputs": [],
   "source": [
    "liveSketch()"
   ]
  }
 ],
 "metadata": {
  "kernelspec": {
   "display_name": "Python 3",
   "language": "python",
   "name": "python3"
  },
  "language_info": {
   "codemirror_mode": {
    "name": "ipython",
    "version": 3
   },
   "file_extension": ".py",
   "mimetype": "text/x-python",
   "name": "python",
   "nbconvert_exporter": "python",
   "pygments_lexer": "ipython3",
   "version": "3.7.9"
  },
  "orig_nbformat": 4
 },
 "nbformat": 4,
 "nbformat_minor": 2
}
