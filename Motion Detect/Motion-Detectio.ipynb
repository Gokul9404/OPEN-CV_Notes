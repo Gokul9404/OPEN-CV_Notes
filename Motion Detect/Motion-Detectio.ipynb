{
 "cells": [
  {
   "attachments": {},
   "cell_type": "markdown",
   "metadata": {},
   "source": [
    "## Motion Detection"
   ]
  },
  {
   "attachments": {},
   "cell_type": "markdown",
   "metadata": {},
   "source": [
    "Motion detection, in simple terms, is the process of identifying and tracking changes in the position of objects within a video or image sequence. It allows us to detect when something moves in a given frame and can be incredibly valuable in various fields.\n",
    "\n",
    "The primary goal of motion detection is to identify regions in a video where significant changes have occurred compared to a reference frame. These changes can include objects entering or exiting the scene, objects changing positions, or even subtle alterations such as a flickering light. By pinpointing these areas of motion, we can analyze and respond to events of interest in real time or during post-processing."
   ]
  },
  {
   "attachments": {},
   "cell_type": "markdown",
   "metadata": {},
   "source": [
    "### ___Motion Detection Techniques___\n",
    "_Frame Differencing_\n",
    "* Frame differencing compares consecutive frames, highlighting areas with significant change. By thresholding the difference image, we can isolate moving objects.\n",
    "\n",
    "_Background Subtraction_\n",
    "* Background subtraction creates a background model and subtracts it from subsequent frames to detect the foreground objects, indicating motion.\n",
    "\n",
    "_Noise Reduction_\n",
    "* Techniques like Gaussian blurring help reduce noise and smoothen difference images, improving the accuracy of motion detection.\n",
    "\n",
    "_Contour Detection_\n",
    "* Contours identify the boundaries of objects within regions of motion, enabling us to extract individual objects for further analysis.\n",
    "\n",
    "_Object Tracking_ \n",
    "* Object tracking involves monitoring the movement of specific objects over time. Centroid tracking tracks the centroid of objects, providing position and trajectory information."
   ]
  }
 ],
 "metadata": {
  "language_info": {
   "name": "python"
  },
  "orig_nbformat": 4
 },
 "nbformat": 4,
 "nbformat_minor": 2
}
