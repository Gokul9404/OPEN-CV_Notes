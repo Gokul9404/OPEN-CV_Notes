{
 "cells": [
  {
   "attachments": {},
   "cell_type": "markdown",
   "metadata": {},
   "source": [
    "## <b>Image Thresholding</b>\n",
    "It can be identified as Image segmentation based on Intensity Values of Pixel."
   ]
  },
  {
   "attachments": {},
   "cell_type": "markdown",
   "metadata": {},
   "source": [
    "![./Example-images/global_thresholding_example.png](zz/global_thresholding_example.png)"
   ]
  },
  {
   "cell_type": "code",
   "execution_count": null,
   "metadata": {},
   "outputs": [],
   "source": [
    "import cv2\n",
    "import numpy as np\n",
    "import matplotlib.pyplot as plt"
   ]
  },
  {
   "cell_type": "code",
   "execution_count": null,
   "metadata": {},
   "outputs": [],
   "source": [
    "image_0 = cv2.imread(\".Images/Test_image_6.png\")\n",
    "image_1 = cv2.imread(\".Images/Test_image_5.png\")\n",
    "image_2 = cv2.imread(\".Images/Test_image_7.png\")"
   ]
  },
  {
   "attachments": {},
   "cell_type": "markdown",
   "metadata": {},
   "source": [
    "### <b>Simple Global Thresholding</b>"
   ]
  },
  {
   "cell_type": "code",
   "execution_count": null,
   "metadata": {},
   "outputs": [],
   "source": [
    "img = cv2.cvtColor(image_1, cv2.COLOR_BGR2GRAY)\n",
    "\n",
    "# applying different thresholding techniques on the input image\n",
    "# all pixels value above 120 will be set to 255\n",
    "ret, thresh1 = cv2.threshold(img, 120, 255, cv2.THRESH_BINARY)\n",
    "ret, thresh2 = cv2.threshold(img, 120, 255, cv2.THRESH_BINARY_INV)\n",
    "ret, thresh3 = cv2.threshold(img, 120, 255, cv2.THRESH_TRUNC)\n",
    "ret, thresh4 = cv2.threshold(img, 120, 255, cv2.THRESH_TOZERO)\n",
    "ret, thresh5 = cv2.threshold(img, 120, 255, cv2.THRESH_TOZERO_INV)\n",
    "  \n",
    "# the window showing output images with the corresponding thresholding techniques applied to the input images\n",
    "plt.subplot(321),plt.imshow(img,cmap='gray'), plt.title(\"Original\",fontsize=10)\n",
    "plt.subplot(322), plt.imshow(thresh1,cmap='gray'), plt.title(\"Binary Thresh\",fontsize=10)\n",
    "plt.subplot(323), plt.imshow(thresh2,cmap='gray'), plt.title(\"Binary Thresh Invert\",fontsize=10)\n",
    "plt.subplot(323), plt.imshow(thresh3,cmap='gray'), plt.title(\"Thresh Trunc\",fontsize=10)\n",
    "plt.subplot(324), plt.imshow(thresh4,cmap='gray'), plt.title(\"Thresh ToZero\",fontsize=10)\n",
    "plt.subplot(325), plt.imshow(thresh5,cmap='gray'), plt.title(\"Thresh ToZeroInv\",fontsize=10)\n",
    "plt.subplots_adjust(hspace=0.6)\n",
    "plt.show()"
   ]
  },
  {
   "attachments": {},
   "cell_type": "markdown",
   "metadata": {},
   "source": [
    "### <b>Otsu Thersholding</b>"
   ]
  },
  {
   "attachments": {},
   "cell_type": "markdown",
   "metadata": {},
   "source": [
    "* initialize w_i(0), \\mu_i(0)\n",
    "* iterate over possible thresholds: t = 0,..., max\\_intensity\n",
    "\n",
    "    * update the values of w_i, \\mu_i, where w_i is a probability and \\mu_i is a mean of class i\n",
    "\n",
    "    * calculate the between-class variance value \\sigma_b^2(t)\n",
    "\n",
    "* the final threshold is the maximum \\sigma_b^2(t) value"
   ]
  },
  {
   "attachments": {},
   "cell_type": "markdown",
   "metadata": {},
   "source": [
    "### Method-1 \n",
    "mathematical calulation based"
   ]
  },
  {
   "cell_type": "code",
   "execution_count": null,
   "metadata": {},
   "outputs": [],
   "source": [
    "# # Determine threshold of Otsu's binarization\n",
    "# H, W, C = image_0.shape\n",
    "\n",
    "# out = cv2.cvtColor(image_0, cv2.COLOR_BGR2GRAY).astype(np.uint8)\n",
    "# max_sigma = 0\n",
    "# max_t = 0\n",
    "\n",
    " \n",
    "# for _t in range(1, 255):\n",
    "#     v0 = out[np.where(out < _t)]\n",
    "#     m0 = np.mean(v0) if len(v0) > 0 else 0.\n",
    "#     w0 = len(v0) / (H * W)\n",
    "#     v1 = out[np.where(out >= _t)]\n",
    "#     m1 = np.mean(v1) if len(v1) > 0 else 0.\n",
    "#     w1 = len(v1) / (H * W)\n",
    "#     sigma = w0 * w1 * ((m0 - m1) ** 2)\n",
    "#     if sigma > max_sigma:\n",
    "#         max_sigma = sigma\n",
    "#         max_t = _t\n",
    "# th = max_t\n",
    "# out[out < th] = 0\n",
    "# out[out >= th] = 255\n",
    "\n",
    "# plt.subplot(121), plt.imshow(image_0,cmap='gray'), plt.title(\"Original\",fontsize=10)\n",
    "# plt.subplot(122), plt.imshow(out,cmap='gray'), plt.title(\"Otsu Thresholding\",fontsize=10)   \n",
    "# plt.show()"
   ]
  },
  {
   "attachments": {},
   "cell_type": "markdown",
   "metadata": {},
   "source": [
    "### Method-2\n",
    "Opencv method based"
   ]
  },
  {
   "cell_type": "code",
   "execution_count": null,
   "metadata": {},
   "outputs": [],
   "source": [
    "# cv2.cvtColor is applied over the image input with applied parameters\n",
    "# to convert the image in grayscale\n",
    "img = cv2.cvtColor(image_0, cv2.COLOR_BGR2GRAY)\n",
    "  \n",
    "# applying Otsu thresholding as an extra flag in binary thresholding     \n",
    "otus_threshold_value , thresh1 = cv2.threshold(img, 120, 255, cv2.THRESH_BINARY + \n",
    "                                            cv2.THRESH_OTSU)     \n",
    "   \n",
    "plt.subplot(121), plt.imshow(image_0,cmap='gray'), plt.title(\"Original\",fontsize=10)\n",
    "plt.subplot(122), plt.imshow(thresh1,cmap='gray'), plt.title(\"Otsu Thresholding\",fontsize=10)   \n",
    "plt.show()"
   ]
  },
  {
   "attachments": {},
   "cell_type": "markdown",
   "metadata": {},
   "source": [
    "### <b>Adaptive Thresholding</b>"
   ]
  },
  {
   "cell_type": "code",
   "execution_count": null,
   "metadata": {},
   "outputs": [],
   "source": [
    "img = cv2.GaussianBlur(image_2,(5,5),0)\n",
    "th1 = cv2.adaptiveThreshold(img,255,cv2.ADAPTIVE_THRESH_MEAN_C,cv2.THRESH_BINARY,5,2)\n",
    "th2 = cv2.adaptiveThreshold(img,255,cv2.ADAPTIVE_THRESH_GAUSSIAN_C,cv2.THRESH_BINARY,5,2)\n",
    "\n",
    "plt.subplot(221), plt.imshow(image_2,cmap='gray'), plt.title(\"Original\",fontsize=10)\n",
    "plt.subplot(223), plt.imshow(th1,cmap='gray'), plt.title(\"Adaptive Mean Thresholding\",fontsize=10)   \n",
    "plt.subplot(224), plt.imshow(th2,cmap='gray'), plt.title(\"Adaptive Gaussain Thresholding\",fontsize=10)   \n",
    "plt.show()"
   ]
  }
 ],
 "metadata": {
  "kernelspec": {
   "display_name": "Python 3",
   "language": "python",
   "name": "python3"
  },
  "language_info": {
   "codemirror_mode": {
    "name": "ipython",
    "version": 3
   },
   "file_extension": ".py",
   "mimetype": "text/x-python",
   "name": "python",
   "nbconvert_exporter": "python",
   "pygments_lexer": "ipython3",
   "version": "3.7.9"
  },
  "orig_nbformat": 4
 },
 "nbformat": 4,
 "nbformat_minor": 2
}
